{
  "nbformat": 4,
  "nbformat_minor": 0,
  "metadata": {
    "colab": {
      "name": "100numpyexercises",
      "provenance": [],
      "collapsed_sections": [],
      "authorship_tag": "ABX9TyNq+4O3yiUWd5kU2mTF/LUm",
      "include_colab_link": true
    },
    "kernelspec": {
      "name": "python3",
      "display_name": "Python 3"
    },
    "language_info": {
      "name": "python"
    }
  },
  "cells": [
    {
      "cell_type": "markdown",
      "metadata": {
        "id": "view-in-github",
        "colab_type": "text"
      },
      "source": [
        "<a href=\"https://colab.research.google.com/github/unna97/Practicing_Numpy/blob/main/100numpyexercises.ipynb\" target=\"_parent\"><img src=\"https://colab.research.google.com/assets/colab-badge.svg\" alt=\"Open In Colab\"/></a>"
      ]
    },
    {
      "cell_type": "markdown",
      "metadata": {
        "id": "TeR-1Y8NVSrZ"
      },
      "source": [
        "1. Import the numpy package under the name np (★☆☆)¶\n"
      ]
    },
    {
      "cell_type": "code",
      "metadata": {
        "id": "FeqL2nPZw21D"
      },
      "source": [
        "import numpy as np"
      ],
      "execution_count": null,
      "outputs": []
    },
    {
      "cell_type": "markdown",
      "metadata": {
        "id": "3_YJciehVaAy"
      },
      "source": [
        "2. Print the numpy version and the configuration (★☆☆)¶\n"
      ]
    },
    {
      "cell_type": "code",
      "metadata": {
        "colab": {
          "base_uri": "https://localhost:8080/"
        },
        "id": "FsAxSw7NxFFq",
        "outputId": "57c79783-25eb-4fe5-c457-b59ccf45d735"
      },
      "source": [
        "print(np.__version__)\n",
        "np.show_config()\n",
        "np.__config__.show()"
      ],
      "execution_count": null,
      "outputs": [
        {
          "output_type": "stream",
          "name": "stdout",
          "text": [
            "1.19.5\n",
            "blas_mkl_info:\n",
            "  NOT AVAILABLE\n",
            "blis_info:\n",
            "  NOT AVAILABLE\n",
            "openblas_info:\n",
            "    libraries = ['openblas', 'openblas']\n",
            "    library_dirs = ['/usr/local/lib']\n",
            "    language = c\n",
            "    define_macros = [('HAVE_CBLAS', None)]\n",
            "blas_opt_info:\n",
            "    libraries = ['openblas', 'openblas']\n",
            "    library_dirs = ['/usr/local/lib']\n",
            "    language = c\n",
            "    define_macros = [('HAVE_CBLAS', None)]\n",
            "lapack_mkl_info:\n",
            "  NOT AVAILABLE\n",
            "openblas_lapack_info:\n",
            "    libraries = ['openblas', 'openblas']\n",
            "    library_dirs = ['/usr/local/lib']\n",
            "    language = c\n",
            "    define_macros = [('HAVE_CBLAS', None)]\n",
            "lapack_opt_info:\n",
            "    libraries = ['openblas', 'openblas']\n",
            "    library_dirs = ['/usr/local/lib']\n",
            "    language = c\n",
            "    define_macros = [('HAVE_CBLAS', None)]\n",
            "blas_mkl_info:\n",
            "  NOT AVAILABLE\n",
            "blis_info:\n",
            "  NOT AVAILABLE\n",
            "openblas_info:\n",
            "    libraries = ['openblas', 'openblas']\n",
            "    library_dirs = ['/usr/local/lib']\n",
            "    language = c\n",
            "    define_macros = [('HAVE_CBLAS', None)]\n",
            "blas_opt_info:\n",
            "    libraries = ['openblas', 'openblas']\n",
            "    library_dirs = ['/usr/local/lib']\n",
            "    language = c\n",
            "    define_macros = [('HAVE_CBLAS', None)]\n",
            "lapack_mkl_info:\n",
            "  NOT AVAILABLE\n",
            "openblas_lapack_info:\n",
            "    libraries = ['openblas', 'openblas']\n",
            "    library_dirs = ['/usr/local/lib']\n",
            "    language = c\n",
            "    define_macros = [('HAVE_CBLAS', None)]\n",
            "lapack_opt_info:\n",
            "    libraries = ['openblas', 'openblas']\n",
            "    library_dirs = ['/usr/local/lib']\n",
            "    language = c\n",
            "    define_macros = [('HAVE_CBLAS', None)]\n"
          ]
        }
      ]
    },
    {
      "cell_type": "markdown",
      "metadata": {
        "id": "6rxvG7cAV6jg"
      },
      "source": [
        "3. Create a null vector of size 10 (★☆☆)"
      ]
    },
    {
      "cell_type": "code",
      "metadata": {
        "id": "ZWEtD0HbXgnd"
      },
      "source": [
        "null_vector = np.array([np.nan] *10)"
      ],
      "execution_count": null,
      "outputs": []
    },
    {
      "cell_type": "markdown",
      "metadata": {
        "id": "TkrAVrfcWbX7"
      },
      "source": [
        "4. How to find the memory size of any array (★☆☆)\n"
      ]
    },
    {
      "cell_type": "code",
      "metadata": {
        "colab": {
          "base_uri": "https://localhost:8080/"
        },
        "id": "KH_SkukWWC0A",
        "outputId": "21924cbd-8f64-47e9-e2cb-d6a1811fb236"
      },
      "source": [
        "a = np.random.random(2)\n",
        "print(\"memory:\",a.nbytes) \n",
        "print(np.size(a)*a.itemsize)\n",
        "print(a.size*a.itemsize)"
      ],
      "execution_count": null,
      "outputs": [
        {
          "output_type": "stream",
          "name": "stdout",
          "text": [
            "memory: 16\n",
            "16\n",
            "16\n"
          ]
        }
      ]
    },
    {
      "cell_type": "markdown",
      "metadata": {
        "id": "aasIynfnWKN1"
      },
      "source": [
        "5. How to get the documentation of the numpy add function from the command line? (★☆☆)\n"
      ]
    },
    {
      "cell_type": "code",
      "metadata": {
        "id": "7Crugz_aEBdH"
      },
      "source": [
        "#np.lookfor('configuration')\n",
        "#help(np.doc.broadcasting)\n",
        "#np.doc.broadcasting\n",
        "#np.info\n",
        "#??np.add"
      ],
      "execution_count": null,
      "outputs": []
    },
    {
      "cell_type": "markdown",
      "metadata": {
        "id": "bkO2W5tzWJ8J"
      },
      "source": [
        "6. Create a null vector of size 10 but the fifth value which is 1 (★☆☆)\n",
        "\n"
      ]
    },
    {
      "cell_type": "code",
      "metadata": {
        "id": "RTZohxp2Xbsl"
      },
      "source": [
        "almost_null = null_vector.copy() ### Copy is important or else it references memory"
      ],
      "execution_count": null,
      "outputs": []
    },
    {
      "cell_type": "code",
      "metadata": {
        "id": "gbt2HD0HZof2"
      },
      "source": [
        "almost_null[4] = 1"
      ],
      "execution_count": null,
      "outputs": []
    },
    {
      "cell_type": "code",
      "metadata": {
        "colab": {
          "base_uri": "https://localhost:8080/"
        },
        "id": "-3gWDcmDZoc6",
        "outputId": "08ae0848-dd7c-42bb-87e3-3757a3611f39"
      },
      "source": [
        "print(almost_null)\n",
        "print(null_vector)"
      ],
      "execution_count": null,
      "outputs": [
        {
          "output_type": "stream",
          "name": "stdout",
          "text": [
            "[nan nan nan nan  1. nan nan nan nan nan]\n",
            "[nan nan nan nan nan nan nan nan nan nan]\n"
          ]
        }
      ]
    },
    {
      "cell_type": "markdown",
      "metadata": {
        "id": "zOkihCyHWJ5Q"
      },
      "source": [
        "7. Create a vector with values ranging from 10 to 49 (★☆☆)¶\n",
        "\n"
      ]
    },
    {
      "cell_type": "code",
      "metadata": {
        "id": "nOD96AyZXcUi"
      },
      "source": [
        "range_vector = np.arange(10, 50)"
      ],
      "execution_count": null,
      "outputs": []
    },
    {
      "cell_type": "markdown",
      "metadata": {
        "id": "Z-ebNQ-UWs25"
      },
      "source": [
        "\n",
        "8. Reverse a vector (first element becomes last) (★☆☆)\n"
      ]
    },
    {
      "cell_type": "markdown",
      "metadata": {
        "id": "FmSKbdHobM9x"
      },
      "source": [
        "-   *A potentially confusing case is when the step value is negative. In this    case, the defaults for start and stop are swapped. This becomes a convenient   way to reverse an array:*"
      ]
    },
    {
      "cell_type": "code",
      "metadata": {
        "id": "XhEVKCAZXWiD"
      },
      "source": [
        "reverse_array = range_vector[::-1] ### Remember to copy or it will maipulate the  orignal array as well"
      ],
      "execution_count": null,
      "outputs": []
    },
    {
      "cell_type": "code",
      "metadata": {
        "id": "EJpzUNYEbVMx"
      },
      "source": [
        "reverse_array[0] = 1\n"
      ],
      "execution_count": null,
      "outputs": []
    },
    {
      "cell_type": "code",
      "metadata": {
        "colab": {
          "base_uri": "https://localhost:8080/"
        },
        "id": "t4faCXD9bd-7",
        "outputId": "35b96e05-cb6a-4807-a060-40cdcf8de9f0"
      },
      "source": [
        "print(reverse_array)\n",
        "print(range_vector)"
      ],
      "execution_count": null,
      "outputs": [
        {
          "output_type": "stream",
          "name": "stdout",
          "text": [
            "[ 1 48 47 46 45 44 43 42 41 40 39 38 37 36 35 34 33 32 31 30 29 28 27 26\n",
            " 25 24 23 22 21 20 19 18 17 16 15 14 13 12 11 10]\n",
            "[10 11 12 13 14 15 16 17 18 19 20 21 22 23 24 25 26 27 28 29 30 31 32 33\n",
            " 34 35 36 37 38 39 40 41 42 43 44 45 46 47 48  1]\n"
          ]
        }
      ]
    },
    {
      "cell_type": "markdown",
      "metadata": {
        "id": "1BmlTjElWt9z"
      },
      "source": [
        "9. Create a 3x3 matrix with values ranging from 0 to 8 (★☆☆)\n"
      ]
    },
    {
      "cell_type": "code",
      "metadata": {
        "colab": {
          "base_uri": "https://localhost:8080/"
        },
        "id": "l7OoVBwHXHCE",
        "outputId": "6bdde50b-95c2-4815-8287-821f5bafe081"
      },
      "source": [
        "np.arange(9).reshape(3,3)"
      ],
      "execution_count": null,
      "outputs": [
        {
          "output_type": "execute_result",
          "data": {
            "text/plain": [
              "array([[0, 1, 2],\n",
              "       [3, 4, 5],\n",
              "       [6, 7, 8]])"
            ]
          },
          "metadata": {},
          "execution_count": 13
        }
      ]
    },
    {
      "cell_type": "markdown",
      "metadata": {
        "id": "2QvXeqN0WuqH"
      },
      "source": [
        "10. Find indices of non-zero elements from [1,2,0,0,4,0] (★☆☆)\n"
      ]
    },
    {
      "cell_type": "code",
      "metadata": {
        "colab": {
          "base_uri": "https://localhost:8080/"
        },
        "id": "8wYpVBSdXHxK",
        "outputId": "a43bcbc4-6607-4550-cb79-355bf7f64229"
      },
      "source": [
        "a = np.array([1,2,0,0,4,0])\n",
        "a.nonzero()"
      ],
      "execution_count": null,
      "outputs": [
        {
          "output_type": "execute_result",
          "data": {
            "text/plain": [
              "(array([0, 1, 4]),)"
            ]
          },
          "metadata": {},
          "execution_count": 14
        }
      ]
    },
    {
      "cell_type": "code",
      "metadata": {
        "colab": {
          "base_uri": "https://localhost:8080/"
        },
        "id": "XgJH-GQWdJ3d",
        "outputId": "1b9799dd-9b4f-4929-97b9-88f26f4580a4"
      },
      "source": [
        "np.argwhere(a)"
      ],
      "execution_count": null,
      "outputs": [
        {
          "output_type": "execute_result",
          "data": {
            "text/plain": [
              "array([[0],\n",
              "       [1],\n",
              "       [4]])"
            ]
          },
          "metadata": {},
          "execution_count": 15
        }
      ]
    },
    {
      "cell_type": "markdown",
      "metadata": {
        "id": "m6F0r0U_WvM8"
      },
      "source": [
        "11. Create a 3x3 identity matrix (★☆☆)\n"
      ]
    },
    {
      "cell_type": "code",
      "metadata": {
        "colab": {
          "base_uri": "https://localhost:8080/"
        },
        "id": "XZHcqBFTXJoX",
        "outputId": "3b362e73-6e0c-4eeb-9200-571b0806f02f"
      },
      "source": [
        "#?? np.identity(3)\n",
        "arr2 = np.eye(4)  # or try with another number like k= -2\n",
        "print(arr2)"
      ],
      "execution_count": null,
      "outputs": [
        {
          "output_type": "stream",
          "name": "stdout",
          "text": [
            "[[1. 0. 0. 0.]\n",
            " [0. 1. 0. 0.]\n",
            " [0. 0. 1. 0.]\n",
            " [0. 0. 0. 1.]]\n"
          ]
        }
      ]
    },
    {
      "cell_type": "markdown",
      "metadata": {
        "id": "dZn2QsGCWvyW"
      },
      "source": [
        "12. Create a 3x3x3 array with random values (★☆☆)\n"
      ]
    },
    {
      "cell_type": "code",
      "metadata": {
        "id": "QXX4bC6wXFwt",
        "colab": {
          "base_uri": "https://localhost:8080/"
        },
        "outputId": "2cf5378a-2536-4e6c-df36-275531c3ed50"
      },
      "source": [
        "random_3d = np.random.random((3,3,3))\n",
        "random_3d"
      ],
      "execution_count": null,
      "outputs": [
        {
          "output_type": "execute_result",
          "data": {
            "text/plain": [
              "array([[[0.67202502, 0.90145403, 0.95232188],\n",
              "        [0.74930496, 0.43807983, 0.99118787],\n",
              "        [0.66238182, 0.84277987, 0.9428566 ]],\n",
              "\n",
              "       [[0.64617006, 0.62951538, 0.35493794],\n",
              "        [0.1561103 , 0.46624575, 0.5873587 ],\n",
              "        [0.55052326, 0.60280862, 0.88034716]],\n",
              "\n",
              "       [[0.16535496, 0.71043693, 0.90787445],\n",
              "        [0.78974903, 0.52955751, 0.25892391],\n",
              "        [0.84826607, 0.7759398 , 0.19651813]]])"
            ]
          },
          "metadata": {},
          "execution_count": 17
        }
      ]
    },
    {
      "cell_type": "markdown",
      "metadata": {
        "id": "0fwCPwEGXM8E"
      },
      "source": [
        "13. Create a 10x10 array with random values and find the minimum and maximum values (★☆☆)"
      ]
    },
    {
      "cell_type": "code",
      "metadata": {
        "id": "St1iYx8VXTd2"
      },
      "source": [
        "arr =  np.random.random((10,10))"
      ],
      "execution_count": null,
      "outputs": []
    },
    {
      "cell_type": "code",
      "metadata": {
        "colab": {
          "base_uri": "https://localhost:8080/"
        },
        "id": "reCBpvP0h6tM",
        "outputId": "eee80fed-e5a0-4ef1-c9f4-a347845039f7"
      },
      "source": [
        "arr"
      ],
      "execution_count": null,
      "outputs": [
        {
          "output_type": "execute_result",
          "data": {
            "text/plain": [
              "array([[0.92286607, 0.25534212, 0.55094724, 0.33683544, 0.36323734,\n",
              "        0.76631417, 0.05795262, 0.8872348 , 0.03815463, 0.67940802],\n",
              "       [0.8147125 , 0.3705894 , 0.8972306 , 0.18067697, 0.38667784,\n",
              "        0.43189633, 0.43907219, 0.66185714, 0.53149996, 0.0646485 ],\n",
              "       [0.04239942, 0.35774761, 0.21843258, 0.35770097, 0.72857365,\n",
              "        0.28854973, 0.61525133, 0.81239144, 0.40394594, 0.26321183],\n",
              "       [0.187072  , 0.13094849, 0.75805805, 0.9256291 , 0.14797953,\n",
              "        0.10618149, 0.54809149, 0.51805617, 0.15991374, 0.28759796],\n",
              "       [0.8594521 , 0.77219277, 0.42645838, 0.77976471, 0.92644514,\n",
              "        0.10375278, 0.4925291 , 0.28720684, 0.77177162, 0.94137561],\n",
              "       [0.39698074, 0.34945924, 0.74248656, 0.4763959 , 0.83875503,\n",
              "        0.18534337, 0.07475006, 0.11335749, 0.10313829, 0.73155993],\n",
              "       [0.46047325, 0.10374798, 0.12072478, 0.49792673, 0.50905923,\n",
              "        0.19682504, 0.67794116, 0.86079244, 0.38192133, 0.73671957],\n",
              "       [0.37634634, 0.16203792, 0.45614728, 0.66556847, 0.81256968,\n",
              "        0.68435749, 0.07841111, 0.8386075 , 0.24636702, 0.24489836],\n",
              "       [0.35489233, 0.19478566, 0.06435791, 0.22574281, 0.15682715,\n",
              "        0.40367473, 0.69590442, 0.69403106, 0.77462869, 0.94550503],\n",
              "       [0.67053128, 0.62312297, 0.99067711, 0.54700475, 0.29620467,\n",
              "        0.95751027, 0.29708104, 0.55605274, 0.3253773 , 0.15563425]])"
            ]
          },
          "metadata": {},
          "execution_count": 19
        }
      ]
    },
    {
      "cell_type": "code",
      "metadata": {
        "colab": {
          "base_uri": "https://localhost:8080/"
        },
        "id": "8vJc-a3Fh2kp",
        "outputId": "220496e7-a101-41fe-8c59-1ac7d2562269"
      },
      "source": [
        "print(arr.max(), arr.min())\n"
      ],
      "execution_count": null,
      "outputs": [
        {
          "output_type": "stream",
          "name": "stdout",
          "text": [
            "0.9906771058158665 0.038154628361409926\n"
          ]
        }
      ]
    },
    {
      "cell_type": "markdown",
      "metadata": {
        "id": "TVkCcrPbjPtx"
      },
      "source": [
        "14. Create a random vector of size 30 and find the mean value (★☆☆)\n",
        "\n",
        "\n"
      ]
    },
    {
      "cell_type": "code",
      "metadata": {
        "colab": {
          "base_uri": "https://localhost:8080/"
        },
        "id": "hQhtnjWOkDEZ",
        "outputId": "fad02e7b-9016-49b8-a58e-5650088332ec"
      },
      "source": [
        "rand_mean = np.random.random(30)\n",
        "rand_mean"
      ],
      "execution_count": null,
      "outputs": [
        {
          "output_type": "execute_result",
          "data": {
            "text/plain": [
              "array([0.01515902, 0.09329158, 0.57248291, 0.99597017, 0.24565998,\n",
              "       0.83728278, 0.29694876, 0.50747446, 0.1517781 , 0.87030539,\n",
              "       0.5022373 , 0.9147876 , 0.83686311, 0.31033887, 0.77168424,\n",
              "       0.45715694, 0.91112373, 0.86852306, 0.35531071, 0.6614872 ,\n",
              "       0.20386485, 0.13450697, 0.74940226, 0.53791218, 0.73242082,\n",
              "       0.45456602, 0.72547466, 0.43431999, 0.16103793, 0.50038706])"
            ]
          },
          "metadata": {},
          "execution_count": 21
        }
      ]
    },
    {
      "cell_type": "code",
      "metadata": {
        "colab": {
          "base_uri": "https://localhost:8080/"
        },
        "id": "VqUpVUCVkN-n",
        "outputId": "a4a09e32-7044-4712-8e3d-7d8fd0c77f24"
      },
      "source": [
        "rand_mean.mean() == np.mean(rand_mean)"
      ],
      "execution_count": null,
      "outputs": [
        {
          "output_type": "execute_result",
          "data": {
            "text/plain": [
              "True"
            ]
          },
          "metadata": {},
          "execution_count": 22
        }
      ]
    },
    {
      "cell_type": "code",
      "metadata": {
        "colab": {
          "base_uri": "https://localhost:8080/"
        },
        "id": "KesI6tagkbZP",
        "outputId": "a642f437-8a66-4679-c5f5-22d8717bcdb6"
      },
      "source": [
        "rand_mean.mean()"
      ],
      "execution_count": null,
      "outputs": [
        {
          "output_type": "execute_result",
          "data": {
            "text/plain": [
              "0.5269919558904187"
            ]
          },
          "metadata": {},
          "execution_count": 23
        }
      ]
    },
    {
      "cell_type": "markdown",
      "metadata": {
        "id": "U1UW1DzpjS3J"
      },
      "source": [
        "15. Create a 2d array with 1 on the border and 0 inside (★☆☆)\n"
      ]
    },
    {
      "cell_type": "code",
      "metadata": {
        "id": "3_roK6vBkADJ",
        "colab": {
          "base_uri": "https://localhost:8080/"
        },
        "outputId": "4037968b-364c-485c-cbcd-14d7a8d297a3"
      },
      "source": [
        "arr = np.zeros((3,2))\n",
        "arr"
      ],
      "execution_count": null,
      "outputs": [
        {
          "output_type": "execute_result",
          "data": {
            "text/plain": [
              "array([[0., 0.],\n",
              "       [0., 0.],\n",
              "       [0., 0.]])"
            ]
          },
          "metadata": {},
          "execution_count": 36
        }
      ]
    },
    {
      "cell_type": "code",
      "metadata": {
        "colab": {
          "base_uri": "https://localhost:8080/"
        },
        "id": "qX7tsp7Eij8W",
        "outputId": "32294de7-d53f-4378-a223-6a3d043768cd"
      },
      "source": [
        "np.pad(arr,pad_width=1,mode='constant',constant_values=1)"
      ],
      "execution_count": null,
      "outputs": [
        {
          "output_type": "execute_result",
          "data": {
            "text/plain": [
              "array([[1., 1., 1., 1.],\n",
              "       [1., 0., 0., 1.],\n",
              "       [1., 0., 0., 1.],\n",
              "       [1., 0., 0., 1.],\n",
              "       [1., 1., 1., 1.]])"
            ]
          },
          "metadata": {},
          "execution_count": 37
        }
      ]
    },
    {
      "cell_type": "markdown",
      "metadata": {
        "id": "Eg8tWTJ1jWLo"
      },
      "source": [
        "16. How to add a border (filled with 0's) around an existing array? (★☆☆)\n"
      ]
    },
    {
      "cell_type": "code",
      "metadata": {
        "id": "9-Rim2-Kj_nG",
        "colab": {
          "base_uri": "https://localhost:8080/"
        },
        "outputId": "1485b1d1-a197-4ff7-afa5-af18f647c95e"
      },
      "source": [
        "np.pad(arr2,1)"
      ],
      "execution_count": null,
      "outputs": [
        {
          "output_type": "execute_result",
          "data": {
            "text/plain": [
              "array([[0., 0., 0., 0., 0., 0.],\n",
              "       [0., 1., 0., 0., 0., 0.],\n",
              "       [0., 0., 1., 0., 0., 0.],\n",
              "       [0., 0., 0., 1., 0., 0.],\n",
              "       [0., 0., 0., 0., 1., 0.],\n",
              "       [0., 0., 0., 0., 0., 0.]])"
            ]
          },
          "metadata": {},
          "execution_count": 39
        }
      ]
    },
    {
      "cell_type": "markdown",
      "metadata": {
        "id": "Cpg4JSlljdIx"
      },
      "source": [
        "17. What is the result of the following expression? (★☆☆)\n",
        "    - 0 * np.nan\n",
        "    - np.nan == np.nan\n",
        "    - np.inf > np.nan\n",
        "    - np.nan - np.nan\n",
        "    - np.nan in set([np.nan])\n",
        "    - 0.3 == 3 * 0.1\n"
      ]
    },
    {
      "cell_type": "markdown",
      "metadata": {
        "id": "VXG3TzGYjtyp"
      },
      "source": [
        "18. Create a 5x5 matrix with values 1,2,3,4 just below the diagonal (★☆☆)\n"
      ]
    },
    {
      "cell_type": "code",
      "metadata": {
        "id": "Uv8F_gEpjnru"
      },
      "source": [
        "diag_ = np.random.random((5,5))"
      ],
      "execution_count": null,
      "outputs": []
    },
    {
      "cell_type": "code",
      "metadata": {
        "id": "tCQNKsS3jPb5"
      },
      "source": [
        "??diag_.diagonal()"
      ],
      "execution_count": null,
      "outputs": []
    },
    {
      "cell_type": "code",
      "metadata": {
        "id": "eTBDuuvmlHh2"
      },
      "source": [
        "??np.triu"
      ],
      "execution_count": null,
      "outputs": []
    }
  ]
}